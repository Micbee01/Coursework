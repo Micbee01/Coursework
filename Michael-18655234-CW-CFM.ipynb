{
 "cells": [
  {
   "cell_type": "markdown",
   "id": "ee53b5c9",
   "metadata": {},
   "source": [
    "# Data Import via yfinance"
   ]
  },
  {
   "cell_type": "markdown",
   "id": "55c1f777",
   "metadata": {},
   "source": [
    "Install the yfinance package, which is the downloader connected with the Yahoo Fiannce API."
   ]
  },
  {
   "cell_type": "code",
   "execution_count": 1,
   "id": "40593233",
   "metadata": {},
   "outputs": [
    {
     "name": "stdout",
     "output_type": "stream",
     "text": [
      "Defaulting to user installation because normal site-packages is not writeable\n",
      "Requirement already satisfied: yfinance in c:\\users\\user\\appdata\\roaming\\python\\python39\\site-packages (0.1.84)\n",
      "Requirement already satisfied: numpy>=1.15 in c:\\programdata\\anaconda3\\lib\\site-packages (from yfinance) (1.21.5)\n",
      "Requirement already satisfied: pandas>=0.24.0 in c:\\programdata\\anaconda3\\lib\\site-packages (from yfinance) (1.4.2)\n",
      "Requirement already satisfied: lxml>=4.5.1 in c:\\programdata\\anaconda3\\lib\\site-packages (from yfinance) (4.8.0)\n",
      "Requirement already satisfied: requests>=2.26 in c:\\programdata\\anaconda3\\lib\\site-packages (from yfinance) (2.27.1)\n",
      "Requirement already satisfied: multitasking>=0.0.7 in c:\\users\\user\\appdata\\roaming\\python\\python39\\site-packages (from yfinance) (0.0.11)\n",
      "Requirement already satisfied: appdirs>=1.4.4 in c:\\programdata\\anaconda3\\lib\\site-packages (from yfinance) (1.4.4)\n",
      "Requirement already satisfied: python-dateutil>=2.8.1 in c:\\programdata\\anaconda3\\lib\\site-packages (from pandas>=0.24.0->yfinance) (2.8.2)\n",
      "Requirement already satisfied: pytz>=2020.1 in c:\\programdata\\anaconda3\\lib\\site-packages (from pandas>=0.24.0->yfinance) (2021.3)\n",
      "Requirement already satisfied: six>=1.5 in c:\\programdata\\anaconda3\\lib\\site-packages (from python-dateutil>=2.8.1->pandas>=0.24.0->yfinance) (1.16.0)\n",
      "Requirement already satisfied: idna<4,>=2.5 in c:\\programdata\\anaconda3\\lib\\site-packages (from requests>=2.26->yfinance) (3.3)\n",
      "Requirement already satisfied: urllib3<1.27,>=1.21.1 in c:\\programdata\\anaconda3\\lib\\site-packages (from requests>=2.26->yfinance) (1.26.9)\n",
      "Requirement already satisfied: certifi>=2017.4.17 in c:\\programdata\\anaconda3\\lib\\site-packages (from requests>=2.26->yfinance) (2021.10.8)\n",
      "Requirement already satisfied: charset-normalizer~=2.0.0 in c:\\programdata\\anaconda3\\lib\\site-packages (from requests>=2.26->yfinance) (2.0.4)\n",
      "Note: you may need to restart the kernel to use updated packages.\n"
     ]
    }
   ],
   "source": [
    "pip install yfinance"
   ]
  },
  {
   "cell_type": "code",
   "execution_count": 4,
   "id": "7262fa3a",
   "metadata": {},
   "outputs": [],
   "source": [
    "import yfinance as yf\n",
    "import numpy as np\n",
    "import pandas as pd\n",
    "import scipy.stats as si\n",
    "import matplotlib.pyplot as mpl\n",
    "import os"
   ]
  },
  {
   "cell_type": "markdown",
   "id": "1811b350",
   "metadata": {},
   "source": [
    "Download the data and save it as a pandas DataFrame."
   ]
  },
  {
   "cell_type": "markdown",
   "id": "7fa363f9",
   "metadata": {},
   "source": [
    "major crypyo currency chosen usdt-usd\n",
    "\n"
   ]
  },
  {
   "cell_type": "code",
   "execution_count": 5,
   "id": "029aa921",
   "metadata": {},
   "outputs": [
    {
     "name": "stdout",
     "output_type": "stream",
     "text": [
      "[*********************100%***********************]  1 of 1 completed\n"
     ]
    }
   ],
   "source": [
    "initial_data = yf.download(\"USDT-USD\", start=\"2020-01-01\", end=\"2021-12-31\")"
   ]
  },
  {
   "cell_type": "code",
   "execution_count": 6,
   "id": "e5780d4f",
   "metadata": {},
   "outputs": [
    {
     "data": {
      "text/html": [
       "<div>\n",
       "<style scoped>\n",
       "    .dataframe tbody tr th:only-of-type {\n",
       "        vertical-align: middle;\n",
       "    }\n",
       "\n",
       "    .dataframe tbody tr th {\n",
       "        vertical-align: top;\n",
       "    }\n",
       "\n",
       "    .dataframe thead th {\n",
       "        text-align: right;\n",
       "    }\n",
       "</style>\n",
       "<table border=\"1\" class=\"dataframe\">\n",
       "  <thead>\n",
       "    <tr style=\"text-align: right;\">\n",
       "      <th></th>\n",
       "      <th>Open</th>\n",
       "      <th>High</th>\n",
       "      <th>Low</th>\n",
       "      <th>Close</th>\n",
       "      <th>Adj Close</th>\n",
       "      <th>Volume</th>\n",
       "    </tr>\n",
       "    <tr>\n",
       "      <th>Date</th>\n",
       "      <th></th>\n",
       "      <th></th>\n",
       "      <th></th>\n",
       "      <th></th>\n",
       "      <th></th>\n",
       "      <th></th>\n",
       "    </tr>\n",
       "  </thead>\n",
       "  <tbody>\n",
       "    <tr>\n",
       "      <th>2020-01-01</th>\n",
       "      <td>0.999571</td>\n",
       "      <td>1.006873</td>\n",
       "      <td>0.994924</td>\n",
       "      <td>0.999836</td>\n",
       "      <td>0.999836</td>\n",
       "      <td>21503143454</td>\n",
       "    </tr>\n",
       "    <tr>\n",
       "      <th>2020-01-02</th>\n",
       "      <td>0.999788</td>\n",
       "      <td>1.008451</td>\n",
       "      <td>0.986515</td>\n",
       "      <td>1.001565</td>\n",
       "      <td>1.001565</td>\n",
       "      <td>24212314977</td>\n",
       "    </tr>\n",
       "    <tr>\n",
       "      <th>2020-01-03</th>\n",
       "      <td>1.001183</td>\n",
       "      <td>1.022286</td>\n",
       "      <td>0.988027</td>\n",
       "      <td>1.004192</td>\n",
       "      <td>1.004192</td>\n",
       "      <td>32420287856</td>\n",
       "    </tr>\n",
       "    <tr>\n",
       "      <th>2020-01-04</th>\n",
       "      <td>1.003510</td>\n",
       "      <td>1.013633</td>\n",
       "      <td>0.999160</td>\n",
       "      <td>1.007472</td>\n",
       "      <td>1.007472</td>\n",
       "      <td>21585629320</td>\n",
       "    </tr>\n",
       "    <tr>\n",
       "      <th>2020-01-05</th>\n",
       "      <td>1.009921</td>\n",
       "      <td>1.016161</td>\n",
       "      <td>1.001758</td>\n",
       "      <td>1.006197</td>\n",
       "      <td>1.006197</td>\n",
       "      <td>24090142146</td>\n",
       "    </tr>\n",
       "  </tbody>\n",
       "</table>\n",
       "</div>"
      ],
      "text/plain": [
       "                Open      High       Low     Close  Adj Close       Volume\n",
       "Date                                                                      \n",
       "2020-01-01  0.999571  1.006873  0.994924  0.999836   0.999836  21503143454\n",
       "2020-01-02  0.999788  1.008451  0.986515  1.001565   1.001565  24212314977\n",
       "2020-01-03  1.001183  1.022286  0.988027  1.004192   1.004192  32420287856\n",
       "2020-01-04  1.003510  1.013633  0.999160  1.007472   1.007472  21585629320\n",
       "2020-01-05  1.009921  1.016161  1.001758  1.006197   1.006197  24090142146"
      ]
     },
     "execution_count": 6,
     "metadata": {},
     "output_type": "execute_result"
    }
   ],
   "source": [
    "initial_data.head()"
   ]
  },
  {
   "cell_type": "code",
   "execution_count": 7,
   "id": "3345f28a",
   "metadata": {},
   "outputs": [
    {
     "data": {
      "text/plain": [
       "Date\n",
       "2020-01-01    0.999836\n",
       "2020-01-02    1.001565\n",
       "2020-01-03    1.004192\n",
       "2020-01-04    1.007472\n",
       "2020-01-05    1.006197\n",
       "Name: Adj Close, dtype: float64"
      ]
     },
     "execution_count": 7,
     "metadata": {},
     "output_type": "execute_result"
    }
   ],
   "source": [
    "initial_data['Adj Close'].head()"
   ]
  },
  {
   "cell_type": "markdown",
   "id": "84856333",
   "metadata": {},
   "source": [
    "Set the Adj Closed data as a new DataFrame we will use."
   ]
  },
  {
   "cell_type": "code",
   "execution_count": 8,
   "id": "7df12b76",
   "metadata": {},
   "outputs": [
    {
     "name": "stdout",
     "output_type": "stream",
     "text": [
      "<class 'pandas.core.series.Series'>\n",
      "DatetimeIndex: 730 entries, 2020-01-01 to 2021-12-30\n",
      "Series name: Adj Close\n",
      "Non-Null Count  Dtype  \n",
      "--------------  -----  \n",
      "730 non-null    float64\n",
      "dtypes: float64(1)\n",
      "memory usage: 11.4 KB\n"
     ]
    }
   ],
   "source": [
    "data =  initial_data['Adj Close']\n",
    "data.info()"
   ]
  },
  {
   "cell_type": "code",
   "execution_count": 9,
   "id": "d89e4fbf",
   "metadata": {},
   "outputs": [
    {
     "data": {
      "text/plain": [
       "Date\n",
       "2020-01-01    0.999836\n",
       "2020-01-02    1.001565\n",
       "2020-01-03    1.004192\n",
       "2020-01-04    1.007472\n",
       "2020-01-05    1.006197\n",
       "Name: Adj Close, dtype: float64"
      ]
     },
     "execution_count": 9,
     "metadata": {},
     "output_type": "execute_result"
    }
   ],
   "source": [
    "data.head()"
   ]
  },
  {
   "cell_type": "code",
   "execution_count": 10,
   "id": "845500e0",
   "metadata": {},
   "outputs": [
    {
     "data": {
      "text/plain": [
       "Date\n",
       "2021-12-26    1.000449\n",
       "2021-12-27    0.999944\n",
       "2021-12-28    1.001168\n",
       "2021-12-29    1.000294\n",
       "2021-12-30    1.001036\n",
       "Name: Adj Close, dtype: float64"
      ]
     },
     "execution_count": 10,
     "metadata": {},
     "output_type": "execute_result"
    }
   ],
   "source": [
    "data.tail()"
   ]
  },
  {
   "cell_type": "code",
   "execution_count": 11,
   "id": "ba151fb8",
   "metadata": {},
   "outputs": [
    {
     "name": "stdout",
     "output_type": "stream",
     "text": [
      "[*********************100%***********************]  1 of 1 completed\n"
     ]
    }
   ],
   "source": [
    "data = yf.download(\"USDT-USD\", start=\"2020-01-01\", end=\"2020-01-31\")"
   ]
  },
  {
   "cell_type": "code",
   "execution_count": 17,
   "id": "6edee39c",
   "metadata": {},
   "outputs": [
    {
     "name": "stdout",
     "output_type": "stream",
     "text": [
      "The spot price is 1.0\n"
     ]
    }
   ],
   "source": [
    "S = data['Adj Close'][-1]\n",
    "print('The spot price is', round(S,2))\n",
    "\n"
   ]
  },
  {
   "cell_type": "code",
   "execution_count": 13,
   "id": "41d56166",
   "metadata": {},
   "outputs": [
    {
     "data": {
      "text/plain": [
       "array([<AxesSubplot:xlabel='Date'>, <AxesSubplot:xlabel='Date'>,\n",
       "       <AxesSubplot:xlabel='Date'>, <AxesSubplot:xlabel='Date'>,\n",
       "       <AxesSubplot:xlabel='Date'>, <AxesSubplot:xlabel='Date'>],\n",
       "      dtype=object)"
      ]
     },
     "execution_count": 13,
     "metadata": {},
     "output_type": "execute_result"
    },
    {
     "data": {
      "image/png": "[encoded data removed]",
      "text/plain": [
       "<Figure size 720x864 with 6 Axes>"
      ]
     },
     "metadata": {
      "needs_background": "light"
     },
     "output_type": "display_data"
    }
   ],
   "source": [
    "data.plot(figsize=(10, 12), subplots=True)"
   ]
  },
  {
   "cell_type": "markdown",
   "id": "ab825a5c",
   "metadata": {},
   "source": [
    "Find the log return of Index"
   ]
  },
  {
   "cell_type": "code",
   "execution_count": 14,
   "id": "39f20902",
   "metadata": {},
   "outputs": [
    {
     "name": "stdout",
     "output_type": "stream",
     "text": [
      "[*********************100%***********************]  1 of 1 completed\n"
     ]
    }
   ],
   "source": [
    "data = yf.download(\"USDT-USD\", start=\"2020-01-01\", end=\"2020-01-31\")"
   ]
  },
  {
   "cell_type": "code",
   "execution_count": 15,
   "id": "f05043cf",
   "metadata": {},
   "outputs": [],
   "source": [
    "log_return = np.log(data['Adj Close']) / data['Adj Close'].shift(1)"
   ]
  },
  {
   "cell_type": "markdown",
   "id": "22ffef14",
   "metadata": {},
   "source": [
    "Calculate its standard deviation and annualised it"
   ]
  },
  {
   "cell_type": "code",
   "execution_count": 16,
   "id": "96c40f7e",
   "metadata": {},
   "outputs": [
    {
     "name": "stdout",
     "output_type": "stream",
     "text": [
      "The annualised volatility is 4.15 %\n"
     ]
    }
   ],
   "source": [
    "vol = np.sqrt(365) * log_return.std()\n",
    "print('The annualised volatility is', round(vol*100,2), '%')"
   ]
  },
  {
   "cell_type": "markdown",
   "id": "6f1dfc89",
   "metadata": {},
   "source": [
    "Volatility measures of how much its price changes in a given period of time. When a stock that normally trades in a 1% range of its price on a daily basis suddenly trades 4-5% of its price, it's considered to be experiencing “high volatility.” Based on our computation, volatility is 4.15%. since the that normally trades are in a 1% range of its price on a daily basis and suddenly trades 4-5% of its price, it's considered to be experiencing “high volatility.” The high volatility was experienced in 2020 due to Covid 19 and stable in 2021."
   ]
  },
  {
   "cell_type": "markdown",
   "id": "7d83c36f",
   "metadata": {},
   "source": [
    "Compare it with the VIX data"
   ]
  },
  {
   "cell_type": "markdown",
   "id": "cf394c13",
   "metadata": {},
   "source": [
    "Download VIX data for comparison"
   ]
  },
  {
   "cell_type": "code",
   "execution_count": 19,
   "id": "4605cd5c",
   "metadata": {},
   "outputs": [
    {
     "name": "stdout",
     "output_type": "stream",
     "text": [
      "[*********************100%***********************]  1 of 1 completed\n"
     ]
    }
   ],
   "source": [
    "VIX = yf.download(\"^VIX\", start=\"2020-01-01\", end=\"2020-01-31\")"
   ]
  },
  {
   "cell_type": "code",
   "execution_count": 20,
   "id": "9c1929b0",
   "metadata": {},
   "outputs": [
    {
     "name": "stdout",
     "output_type": "stream",
     "text": [
      "The market volatility is 15.49 %\n"
     ]
    }
   ],
   "source": [
    "vix = VIX['Adj Close'][-1]\n",
    "print('The market volatility is', round(vix,2), '%')"
   ]
  },
  {
   "cell_type": "markdown",
   "id": "cccc6659",
   "metadata": {},
   "source": [
    "# Black scholes Model\n",
    "\n"
   ]
  },
  {
   "cell_type": "markdown",
   "id": "f55c6a04",
   "metadata": {},
   "source": [
    "import numpy as np"
   ]
  },
  {
   "cell_type": "markdown",
   "id": "bc1c423f",
   "metadata": {},
   "source": [
    "import pandas as pd import matplotlib.pyplot as plt import scipy.stats as si import yfinance as yf"
   ]
  },
  {
   "cell_type": "markdown",
   "id": "a7b00b84",
   "metadata": {},
   "source": [
    "## European Options"
   ]
  },
  {
   "cell_type": "markdown",
   "id": "56bac609",
   "metadata": {},
   "source": [
    "Non-Dividend Paying Options"
   ]
  },
  {
   "cell_type": "code",
   "execution_count": 50,
   "id": "ad933cf4",
   "metadata": {},
   "outputs": [],
   "source": [
    "import scipy.stats as si"
   ]
  },
  {
   "cell_type": "code",
   "execution_count": 51,
   "id": "6ad67b12",
   "metadata": {},
   "outputs": [],
   "source": [
    "def euro_option_bs(S, K, T, r, vol, payoff):\n",
    "    \n",
    "    #S: spot price\n",
    "    #K: strike price\n",
    "    #T: time to maturity\n",
    "    #r: risk free rate\n",
    "    #vol: volatility of underlying asset\n",
    "    #payoff: call or put\n",
    "    \n",
    "    d1 = (np.log(S / K) + (r + 0.5 * vol ** 2) * T) / (vol * np.sqrt(T))\n",
    "    d2 = (np.log(S / K) + (r - 0.5 * vol ** 2) * T) / (vol * np.sqrt(T))\n",
    "    if payoff == \"call\":\n",
    "        option_value = S * si.norm.cdf(d1, 0.0, 1.0) - K * np.exp(-r * T) * si.norm.cdf(d2, 0.0, 1.0)\n",
    "    elif payoff == \"put\":\n",
    "        option_value = - S * si.norm.cdf(-d1, 0.0, 1.0) + K * np.exp(-r * T) * si.norm.cdf(-d2, 0.0, 1.0)\n",
    "    \n",
    "    return option_value"
   ]
  },
  {
   "cell_type": "code",
   "execution_count": 52,
   "id": "df843407",
   "metadata": {},
   "outputs": [],
   "source": [
    "S = 1\n",
    "K = 0.95\n",
    "T = 0.083  # 1 month time period\n",
    "r = 0.03\n",
    "vol = 0.0415\n",
    "payoff = \"call\""
   ]
  },
  {
   "cell_type": "code",
   "execution_count": 53,
   "id": "0e5849c8",
   "metadata": {},
   "outputs": [
    {
     "data": {
      "text/plain": [
       "0.05236256553763785"
      ]
     },
     "execution_count": 53,
     "metadata": {},
     "output_type": "execute_result"
    }
   ],
   "source": [
    "euro_option_bs(1, 0.95, 0.083, 0.03, 0.0415, 'call')"
   ]
  },
  {
   "cell_type": "code",
   "execution_count": 54,
   "id": "f056ee32",
   "metadata": {},
   "outputs": [],
   "source": [
    "S = np.linspace(50,150,11)\n",
    "cp = np.zeros((len(S),1))\n",
    "for i in range(len(S)):\n",
    "    cp[i] = euro_option_bs(S[i], 100, 1, 0.05, 0.25, 'call')"
   ]
  },
  {
   "cell_type": "code",
   "execution_count": 56,
   "id": "3be6340c",
   "metadata": {},
   "outputs": [
    {
     "data": {
      "text/plain": [
       "<matplotlib.legend.Legend at 0x1db7c6e2670>"
      ]
     },
     "execution_count": 56,
     "metadata": {},
     "output_type": "execute_result"
    },
    {
     "data": {
      "image/png": "[encoded data removed]",
      "text/plain": [
       "<Figure size 432x288 with 1 Axes>"
      ]
     },
     "metadata": {
      "needs_background": "light"
     },
     "output_type": "display_data"
    }
   ],
   "source": [
    "fig = mpl.figure()\n",
    "mpl.plot(S, cp, '-')\n",
    "mpl.plot(S, np.maximum(S-100,0), '--')\n",
    "mpl.xlabel('Stock Price')\n",
    "mpl.ylabel('Price')\n",
    "mpl.title('European Call')\n",
    "mpl.legend(['Option Price','Payoff at T'])"
   ]
  },
  {
   "cell_type": "markdown",
   "id": "61b2e0f2",
   "metadata": {},
   "source": [
    "# Monte Carlo Simulation"
   ]
  },
  {
   "cell_type": "markdown",
   "id": "1f8ae97c",
   "metadata": {},
   "source": [
    "# It still has one Python loop, namely over the time intervals. The other dimension is handled by vectorized code over all paths."
   ]
  },
  {
   "cell_type": "code",
   "execution_count": 57,
   "id": "ed49bbfd",
   "metadata": {},
   "outputs": [],
   "source": [
    "def mcs_simulation_np(p):\n",
    "    M = p\n",
    "    I = p\n",
    "    dt = T / M \n",
    "    S = np.zeros((M + 1, I))\n",
    "    S[0] = S0 \n",
    "    rn = np.random.standard_normal(S.shape) \n",
    "    for t in range(1, M + 1): \n",
    "        S[t] = S[t-1] * np.exp((r - sigma ** 2 / 2) * dt + sigma * np.sqrt(dt) * rn[t]) \n",
    "    return S"
   ]
  },
  {
   "cell_type": "code",
   "execution_count": 58,
   "id": "2f08d2c2",
   "metadata": {},
   "outputs": [],
   "source": [
    "T = 0.083\n",
    "r = 0.03\n",
    "sigma = 0.415\n",
    "S0 = 1\n",
    "K = 0.95"
   ]
  },
  {
   "cell_type": "code",
   "execution_count": 59,
   "id": "ea6beb75",
   "metadata": {},
   "outputs": [],
   "source": [
    "S = mcs_simulation_np(1000)"
   ]
  },
  {
   "cell_type": "code",
   "execution_count": 60,
   "id": "0f69e9de",
   "metadata": {},
   "outputs": [
    {
     "data": {
      "text/plain": [
       "array([[1.        , 1.00128337, 0.99801604, ..., 0.87315645, 0.87325028,\n",
       "        0.8681695 ],\n",
       "       [1.        , 1.00339783, 1.00615152, ..., 0.97719498, 0.9802554 ,\n",
       "        0.98141676],\n",
       "       [1.        , 1.00409268, 1.00925057, ..., 0.84589128, 0.85209854,\n",
       "        0.85151622],\n",
       "       ...,\n",
       "       [1.        , 1.00377664, 1.00537813, ..., 1.10455719, 1.10738167,\n",
       "        1.10343539],\n",
       "       [1.        , 0.99905981, 0.99643235, ..., 0.81945315, 0.82083937,\n",
       "        0.81920294],\n",
       "       [1.        , 1.00193464, 1.00117098, ..., 1.07159614, 1.07378452,\n",
       "        1.06654082]])"
      ]
     },
     "execution_count": 60,
     "metadata": {},
     "output_type": "execute_result"
    }
   ],
   "source": [
    "S = np.transpose(S)\n",
    "S"
   ]
  },
  {
   "cell_type": "code",
   "execution_count": 61,
   "id": "0ce676e5",
   "metadata": {},
   "outputs": [
    {
     "data": {
      "text/plain": [
       "Text(0.5, 1.0, 'Frequency distribution of the simulated end-of-preiod values')"
      ]
     },
     "execution_count": 61,
     "metadata": {},
     "output_type": "execute_result"
    },
    {
     "data": {
      "image/png": "[encoded data removed]",
      "text/plain": [
       "<Figure size 432x288 with 1 Axes>"
      ]
     },
     "metadata": {
      "needs_background": "light"
     },
     "output_type": "display_data"
    }
   ],
   "source": [
    "import matplotlib.pyplot as plt\n",
    "n, bins, patches = plt.hist(x=S[:,-1], bins='auto', color='#0504aa',alpha=0.7, rwidth=0.85)\n",
    "\n",
    "plt.grid(axis='y', alpha=0.75)\n",
    "plt.xlabel('S_T')\n",
    "plt.ylabel('Frequency')\n",
    "plt.title('Frequency distribution of the simulated end-of-preiod values')"
   ]
  },
  {
   "cell_type": "code",
   "execution_count": 63,
   "id": "14bd0684",
   "metadata": {},
   "outputs": [
    {
     "name": "stdout",
     "output_type": "stream",
     "text": [
      "European call 0.07770109032572986\n"
     ]
    }
   ],
   "source": [
    "c = np.mean(np.maximum(S[:,-1] - K,0))\n",
    "print('European call', str(c))"
   ]
  },
  {
   "cell_type": "markdown",
   "id": "c7342b65",
   "metadata": {},
   "source": [
    "# Greeks"
   ]
  },
  {
   "cell_type": "code",
   "execution_count": 64,
   "id": "54eab970",
   "metadata": {},
   "outputs": [],
   "source": [
    "import numpy as np\n",
    "import pandas as pd\n",
    "import matplotlib.pyplot as plt\n",
    "import scipy.stats as si"
   ]
  },
  {
   "cell_type": "markdown",
   "id": "295c5501",
   "metadata": {},
   "source": [
    "# Option Value"
   ]
  },
  {
   "cell_type": "code",
   "execution_count": 65,
   "id": "9618e27f",
   "metadata": {},
   "outputs": [],
   "source": [
    "def euro_option_bsm(S, K, T, r, q, vol, payoff):\n",
    "    \n",
    "    #S: spot price\n",
    "    #K: strike price\n",
    "    #T: time to maturity\n",
    "    #r: risk free rate\n",
    "    #q: continuous dividend yield\n",
    "    #vol: volatility of underlying asset\n",
    "    #payoff: call or put\n",
    "    \n",
    "    d1 = (np.log(S / K) + (r - q + 0.5 * vol ** 2) * T) / (vol * np.sqrt(T))\n",
    "    d2 = (np.log(S / K) + (r - q - 0.5 * vol ** 2) * T) / (vol * np.sqrt(T))\n",
    "    if payoff == \"call\":\n",
    "        option_value = S * np.exp(-q * T) * si.norm.cdf(d1, 0.0, 1.0) - K * np.exp(-r * T) * si.norm.cdf(d2, 0.0, 1.0)\n",
    "    elif payoff == \"put\":\n",
    "        option_value =  - S * np.exp(-q * T) * si.norm.cdf(-d1, 0.0, 1.0) + K * np.exp(-r * T) * si.norm.cdf(-d2, 0.0, 1.0)\n",
    "    \n",
    "    return option_value"
   ]
  },
  {
   "cell_type": "code",
   "execution_count": 126,
   "id": "77b15f4e",
   "metadata": {},
   "outputs": [],
   "source": [
    "T = 0.083                             \n",
    "r = 0.03\n",
    "sigma = 0.0415\n",
    "S0 = 1\n",
    "K = 0.95\n",
    "q = 0"
   ]
  },
  {
   "cell_type": "code",
   "execution_count": 125,
   "id": "53adf25e",
   "metadata": {},
   "outputs": [
    {
     "data": {
      "text/plain": [
       "0.07398360421196437"
      ]
     },
     "execution_count": 125,
     "metadata": {},
     "output_type": "execute_result"
    }
   ],
   "source": [
    "euro_option_bsm(1, 0.95, 0.083, 0, 0.03, 0.415, 'call')"
   ]
  },
  {
   "cell_type": "code",
   "execution_count": 88,
   "id": "60fb2b3a",
   "metadata": {},
   "outputs": [],
   "source": [
    "S = np.linspace(50,150,11)\n",
    "Call = np.zeros((len(S),1))\n",
    "Put = np.zeros((len(S),1))\n",
    "for i in range(len(S)):\n",
    "    Call [i] = euro_option_bsm(S[i], 100, 1, 0.05, 0.03, 0.25, 'call')\n",
    "    Put [i] = euro_option_bsm(S[i], 100, 1, 0.05, 0.03, 0.25, 'put')"
   ]
  },
  {
   "cell_type": "code",
   "execution_count": 89,
   "id": "c5c57db8",
   "metadata": {},
   "outputs": [
    {
     "data": {
      "text/plain": [
       "<matplotlib.legend.Legend at 0x1db7e59f130>"
      ]
     },
     "execution_count": 89,
     "metadata": {},
     "output_type": "execute_result"
    },
    {
     "data": {
      "image/png": "[encoded data removed]",
      "text/plain": [
       "<Figure size 432x288 with 1 Axes>"
      ]
     },
     "metadata": {
      "needs_background": "light"
     },
     "output_type": "display_data"
    }
   ],
   "source": [
    "fig = plt.figure()\n",
    "plt.plot(S, Call, '-')\n",
    "plt.plot(S, Put, '--')\n",
    "plt.grid()\n",
    "plt.xlabel('Stock Price')\n",
    "plt.ylabel('Option Price')\n",
    "plt.title('European Option')\n",
    "plt.legend(['Call','Put'])"
   ]
  },
  {
   "cell_type": "markdown",
   "id": "bbef5205",
   "metadata": {},
   "source": [
    "# Delta"
   ]
  },
  {
   "cell_type": "markdown",
   "id": "affde018",
   "metadata": {},
   "source": [
    "Delta, ∆, measures the rate of change of the theoretical option value with respect to changes in the underlying asset's price. Delta is the first derivative of the value V of the option with respect to the underlying instrument's price S."
   ]
  },
  {
   "cell_type": "code",
   "execution_count": 90,
   "id": "1e166899",
   "metadata": {},
   "outputs": [],
   "source": [
    "def delta(S, K, T, r, q, vol, payoff):\n",
    "    \n",
    "    d1 = (np.log(S / K) + (r - q + 0.5 * vol ** 2) * T) / (vol * np.sqrt(T))\n",
    "    if payoff == \"call\":\n",
    "        delta = np.exp(-q * T) * si.norm.cdf(d1, 0.0, 1.0)\n",
    "    elif payoff == \"put\":\n",
    "        delta =  - np.exp(-q * T) * si.norm.cdf(-d1, 0.0, 1.0)\n",
    "    \n",
    "    return delta"
   ]
  },
  {
   "cell_type": "code",
   "execution_count": 127,
   "id": "5a5fe823",
   "metadata": {},
   "outputs": [],
   "source": [
    "T = 0.083                              #S: spot price\n",
    "r = 0.03                               #K: strike price\n",
    "sigma = 0.0415                         #T: time to maturity\n",
    "S0 = 1                                  #r: risk free rate\n",
    "K = 0.95                                #vol: volatility of underlying asset\n",
    "q = 0                                   #q: continuous dividend yield"
   ]
  },
  {
   "cell_type": "code",
   "execution_count": 129,
   "id": "5ecefa85",
   "metadata": {},
   "outputs": [
    {
     "data": {
      "text/plain": [
       "0.9999966719739531"
      ]
     },
     "execution_count": 129,
     "metadata": {},
     "output_type": "execute_result"
    }
   ],
   "source": [
    "delta(1, 0.95, 0.083, 0.03, 0, 0.0415, 'call')"
   ]
  },
  {
   "cell_type": "code",
   "execution_count": 100,
   "id": "aff26d2c",
   "metadata": {},
   "outputs": [],
   "source": [
    "S = np.linspace(50,150,11)\n",
    "Delta_Call = np.zeros((len(S),1))\n",
    "Delta_Put = np.zeros((len(S),1))\n",
    "for i in range(len(S)):\n",
    "    Delta_Call [i] = delta(S[i], 100, 1, 0.05, 0.03, 0.25, 'call')\n",
    "    Delta_Put [i] = delta(S[i], 100, 1, 0.05, 0.03, 0.25, 'put')"
   ]
  },
  {
   "cell_type": "code",
   "execution_count": 101,
   "id": "424d471b",
   "metadata": {},
   "outputs": [
    {
     "data": {
      "text/plain": [
       "<matplotlib.legend.Legend at 0x1db7e70eac0>"
      ]
     },
     "execution_count": 101,
     "metadata": {},
     "output_type": "execute_result"
    },
    {
     "data": {
      "image/png": "[encoded data removed]",
      "text/plain": [
       "<Figure size 432x288 with 1 Axes>"
      ]
     },
     "metadata": {
      "needs_background": "light"
     },
     "output_type": "display_data"
    }
   ],
   "source": [
    "fig = plt.figure()\n",
    "plt.plot(S, Delta_Call, '-')\n",
    "plt.plot(S, Delta_Put, '--')\n",
    "plt.grid()\n",
    "plt.xlabel('Stock Price')\n",
    "plt.ylabel('Delta')\n",
    "plt.title('Delta')\n",
    "plt.legend(['Delta for Call','Delta for Put'])"
   ]
  },
  {
   "cell_type": "markdown",
   "id": "bbe7fb45",
   "metadata": {},
   "source": [
    "# Gamma"
   ]
  },
  {
   "cell_type": "markdown",
   "id": "46126dea",
   "metadata": {},
   "source": [
    "Gamma, Γ, measures the rate of change in the delta with respect to changes in the underlying price. Gamma is the second derivative of the value function with respect to the underlying price."
   ]
  },
  {
   "cell_type": "code",
   "execution_count": 102,
   "id": "2f82a196",
   "metadata": {},
   "outputs": [],
   "source": [
    "def gamma(S, K, T, r, q, vol, payoff):\n",
    "    \n",
    "    d1 = (np.log(S / K) + (r - q + 0.5 * vol ** 2) * T) / (vol * np.sqrt(T))\n",
    "    gamma = np.exp(- q * T) * si.norm.pdf(d1, 0.0, 1.0) / (vol * S * np.sqrt(T))\n",
    "    \n",
    "    return gamma"
   ]
  },
  {
   "cell_type": "code",
   "execution_count": 130,
   "id": "378dab0d",
   "metadata": {},
   "outputs": [],
   "source": [
    "T = 0.083\n",
    "r = 0.03\n",
    "sigma = 0.0415\n",
    "S0 = 1\n",
    "K = 0.95\n",
    "q = 0"
   ]
  },
  {
   "cell_type": "code",
   "execution_count": 132,
   "id": "3a600a8e",
   "metadata": {},
   "outputs": [
    {
     "data": {
      "text/plain": [
       "0.0013106500417696064"
      ]
     },
     "execution_count": 132,
     "metadata": {},
     "output_type": "execute_result"
    }
   ],
   "source": [
    "gamma(1, 0.95, 0.083, 0.03, 0, 0.0415, 'call')"
   ]
  },
  {
   "cell_type": "code",
   "execution_count": 114,
   "id": "38fd6efc",
   "metadata": {},
   "outputs": [],
   "source": [
    "S = np.linspace(50,150,11)\n",
    "Gamma = np.zeros((len(S),1))\n",
    "for i in range(len(S)):\n",
    "    Gamma [i] = gamma(S[i], 100, 1, 0.05, 0.03, 0.25, 'call')"
   ]
  },
  {
   "cell_type": "code",
   "execution_count": 115,
   "id": "1bf2f1be",
   "metadata": {},
   "outputs": [
    {
     "data": {
      "text/plain": [
       "<matplotlib.legend.Legend at 0x1db7e7ef040>"
      ]
     },
     "execution_count": 115,
     "metadata": {},
     "output_type": "execute_result"
    },
    {
     "data": {
      "image/png": "[encoded data removed]",
      "text/plain": [
       "<Figure size 432x288 with 1 Axes>"
      ]
     },
     "metadata": {
      "needs_background": "light"
     },
     "output_type": "display_data"
    }
   ],
   "source": [
    "fig = plt.figure()\n",
    "plt.plot(S, Gamma, '-')\n",
    "plt.grid()\n",
    "plt.xlabel('Stock Price')\n",
    "plt.ylabel('Gamma')\n",
    "plt.title('Gamma')\n",
    "plt.legend(['Gamma for Call and Put'])"
   ]
  },
  {
   "cell_type": "markdown",
   "id": "a35ad050",
   "metadata": {},
   "source": [
    "# Speed"
   ]
  },
  {
   "cell_type": "markdown",
   "id": "5237f342",
   "metadata": {},
   "source": [
    "Speed measures the rate of change in Gamma with respect to changes in the underlying price."
   ]
  },
  {
   "cell_type": "code",
   "execution_count": 116,
   "id": "164820d7",
   "metadata": {},
   "outputs": [],
   "source": [
    "def speed(S, K, T, r, q, vol, payoff):\n",
    "    \n",
    "    d1 = (np.log(S / K) + (r - q + 0.5 * vol ** 2) * T) / (vol * np.sqrt(T))\n",
    "    speed = - np.exp(-q * T) * si.norm.pdf(d1, 0.0, 1.0) / ((vol **2) * (S**2) * np.sqrt(T)) * (d1 + vol * np.sqrt(T))\n",
    "    \n",
    "    return speed"
   ]
  },
  {
   "cell_type": "code",
   "execution_count": 146,
   "id": "ba45ddf4",
   "metadata": {},
   "outputs": [],
   "source": [
    "T = 0.083\n",
    "r = 0.03\n",
    "sigma = 0.0415\n",
    "S0 = 1\n",
    "K = 0.95\n",
    "q = 0"
   ]
  },
  {
   "cell_type": "code",
   "execution_count": 147,
   "id": "6e7155fa",
   "metadata": {},
   "outputs": [
    {
     "data": {
      "text/plain": [
       "-0.14692524672550725"
      ]
     },
     "execution_count": 147,
     "metadata": {},
     "output_type": "execute_result"
    }
   ],
   "source": [
    "speed(1, 0.95, 0.0833, 0.03, 0, 0.0415, 'call')"
   ]
  },
  {
   "cell_type": "code",
   "execution_count": 135,
   "id": "1a55e6fc",
   "metadata": {},
   "outputs": [],
   "source": [
    "S = np.linspace(50,150,11)\n",
    "Speed = np.zeros((len(S),1))\n",
    "for i in range(len(S)):\n",
    "    Speed [i] = speed(S[i], 100, 1, 0.05, 0.03, 0.25, 'call')"
   ]
  },
  {
   "cell_type": "code",
   "execution_count": 136,
   "id": "2d543e50",
   "metadata": {},
   "outputs": [
    {
     "data": {
      "text/plain": [
       "<matplotlib.legend.Legend at 0x1db7e8b14c0>"
      ]
     },
     "execution_count": 136,
     "metadata": {},
     "output_type": "execute_result"
    },
    {
     "data": {
      "image/png": "[encoded data removed]",
      "text/plain": [
       "<Figure size 432x288 with 1 Axes>"
      ]
     },
     "metadata": {
      "needs_background": "light"
     },
     "output_type": "display_data"
    }
   ],
   "source": [
    "fig = plt.figure()\n",
    "plt.plot(S, Speed, '-')\n",
    "plt.grid()\n",
    "plt.xlabel('Stock Price')\n",
    "plt.ylabel('Speed')\n",
    "plt.title('Speed')\n",
    "plt.legend(['Speed for Call and Put'])"
   ]
  },
  {
   "cell_type": "markdown",
   "id": "22d9afbd",
   "metadata": {},
   "source": [
    "# Theta"
   ]
  },
  {
   "cell_type": "markdown",
   "id": "34540b1c",
   "metadata": {},
   "source": [
    "Theta, 𝜃, measures the sensitivity of the value of the derivative to the passage of time (see Option time value): the \"time decay\"."
   ]
  },
  {
   "cell_type": "code",
   "execution_count": 121,
   "id": "da7245da",
   "metadata": {},
   "outputs": [],
   "source": [
    "def theta(S, K, T, r, q, vol, payoff):\n",
    "    \n",
    "    d1 = (np.log(S / K) + (r - q + 0.5 * vol ** 2) * T) / (vol * np.sqrt(T))\n",
    "    d2 = (np.log(S / K) + (r - q - 0.5 * vol ** 2) * T) / (vol * np.sqrt(T))\n",
    "    if payoff == \"call\":\n",
    "        theta = vol * S * np.exp(-q * T) * si.norm.pdf(d1, 0.0, 1.0) / (2 * np.sqrt(T)) - q * S * np.exp(-q * T) * si.norm.cdf(d1, 0.0, 1.0) + r * K * np.exp(-r * T) * si.norm.cdf(d2, 0.0, 1.0)\n",
    "    elif payoff == \"put\":\n",
    "        theta = vol * S * np.exp(-q * T) * si.norm.pdf(-d1, 0.0, 1.0) / (2 * np.sqrt(T)) + q * S * np.exp(-q * T) * si.norm.cdf(-d1, 0.0, 1.0) - r * K * np.exp(-r * T) * si.norm.cdf(-d2, 0.0, 1.0)\n",
    "    \n",
    "    return theta"
   ]
  },
  {
   "cell_type": "code",
   "execution_count": 122,
   "id": "31b7cd14",
   "metadata": {},
   "outputs": [],
   "source": [
    "T = 0.083\n",
    "r = 0.03\n",
    "sigma = 0.0415\n",
    "S0 = 1\n",
    "K = 0.95\n",
    "q = 0"
   ]
  },
  {
   "cell_type": "code",
   "execution_count": 137,
   "id": "5da8304c",
   "metadata": {},
   "outputs": [
    {
     "data": {
      "text/plain": [
       "0.017011391287905468"
      ]
     },
     "execution_count": 137,
     "metadata": {},
     "output_type": "execute_result"
    }
   ],
   "source": [
    "theta(1, 0.95, 1, 0.05, 0.03, 0.0415, 'call')"
   ]
  },
  {
   "cell_type": "code",
   "execution_count": 138,
   "id": "a98ad28a",
   "metadata": {},
   "outputs": [],
   "source": [
    "T = np.linspace(0.25,3,12)\n",
    "Theta_Call = np.zeros((len(T),1))\n",
    "Theta_Put = np.zeros((len(T),1))\n",
    "for i in range(len(T)):\n",
    "    Theta_Call [i] = theta(100, 100, T[i], 0.05, 0.03, 0.25, 'call')\n",
    "    Theta_Put [i] = theta(100, 100, T[i], 0.05, 0.03, 0.25, 'put')"
   ]
  },
  {
   "cell_type": "code",
   "execution_count": 139,
   "id": "ef859d21",
   "metadata": {},
   "outputs": [
    {
     "data": {
      "text/plain": [
       "<matplotlib.legend.Legend at 0x1db7e950550>"
      ]
     },
     "execution_count": 139,
     "metadata": {},
     "output_type": "execute_result"
    },
    {
     "data": {
      "image/png": "[encoded data removed]",
      "text/plain": [
       "<Figure size 432x288 with 1 Axes>"
      ]
     },
     "metadata": {
      "needs_background": "light"
     },
     "output_type": "display_data"
    }
   ],
   "source": [
    "fig = plt.figure()\n",
    "plt.plot(T, Theta_Call, '-')\n",
    "plt.plot(T, Theta_Put, '-')\n",
    "plt.grid()\n",
    "plt.xlabel('Time to Expiry')\n",
    "plt.ylabel('Theta')\n",
    "plt.title('Theta')\n",
    "plt.legend(['Theta for Call', 'Theta for Put'])"
   ]
  },
  {
   "cell_type": "markdown",
   "id": "254641c5",
   "metadata": {},
   "source": [
    "# Rho"
   ]
  },
  {
   "cell_type": "markdown",
   "id": "dfced829",
   "metadata": {},
   "source": [
    "Rho, 𝜌, measures sensitivity to the interest rate: it is the derivative of the option value with respect to the risk free interest rate (for the relevant outstanding term)."
   ]
  },
  {
   "cell_type": "code",
   "execution_count": 141,
   "id": "55b50607",
   "metadata": {},
   "outputs": [],
   "source": [
    "def rho(S, K, T, r, q, vol, payoff):\n",
    "    \n",
    "    d1 = (np.log(S / K) + (r - q + 0.5 * vol ** 2) * T) / (vol * np.sqrt(T))\n",
    "    d2 = (np.log(S / K) + (r - q - 0.5 * vol ** 2) * T) / (vol * np.sqrt(T))\n",
    "    if payoff == \"call\":\n",
    "        rho =  K * T * np.exp(-r * T) * si.norm.cdf(d2, 0.0, 1.0)\n",
    "    elif payoff == \"put\":\n",
    "        rho = - K * T * np.exp(-r * T) * si.norm.cdf(-d2, 0.0, 1.0)\n",
    "    \n",
    "    return rho"
   ]
  },
  {
   "cell_type": "code",
   "execution_count": null,
   "id": "77e791e5",
   "metadata": {},
   "outputs": [],
   "source": [
    "T = 0.083\n",
    "r = 0.03\n",
    "vio = 0.0415\n",
    "S = 1\n",
    "K = 0.95\n",
    "q = 0"
   ]
  },
  {
   "cell_type": "code",
   "execution_count": 142,
   "id": "b6419b54",
   "metadata": {},
   "outputs": [
    {
     "data": {
      "text/plain": [
       "0.07865363083421417"
      ]
     },
     "execution_count": 142,
     "metadata": {},
     "output_type": "execute_result"
    }
   ],
   "source": [
    "rho(1, 0.95, 0.083, 0.03, 0, 0.0415, 'call')"
   ]
  },
  {
   "cell_type": "code",
   "execution_count": 145,
   "id": "e853ffc1",
   "metadata": {},
   "outputs": [],
   "source": [
    "r = np.linspace(0,0.1,11)\n",
    "Rho_Call = np.zeros((len(r),1))\n",
    "Rho_Put = np.zeros((len(r),1))\n",
    "for i in range(len(r)):\n",
    "    Rho_Call [i] = rho(100, 100, 1, r[i], 0.03, 0.25, 'call')\n",
    "    Rho_Put [i] = rho(100, 100, 1, r[i], 0.03, 0.25, 'put')"
   ]
  },
  {
   "cell_type": "code",
   "execution_count": 144,
   "id": "61c9eba6",
   "metadata": {},
   "outputs": [
    {
     "data": {
      "text/plain": [
       "<matplotlib.legend.Legend at 0x1db7e9d2d00>"
      ]
     },
     "execution_count": 144,
     "metadata": {},
     "output_type": "execute_result"
    },
    {
     "data": {
      "image/png": "[encoded data removed]",
      "text/plain": [
       "<Figure size 432x288 with 1 Axes>"
      ]
     },
     "metadata": {
      "needs_background": "light"
     },
     "output_type": "display_data"
    }
   ],
   "source": [
    "fig = plt.figure()\n",
    "plt.plot(r, Rho_Call, '-')\n",
    "plt.plot(r, Rho_Put, '-')\n",
    "plt.grid()\n",
    "plt.xlabel('Interest Rate')\n",
    "plt.ylabel('Rho')\n",
    "plt.title('Rho')\n",
    "plt.legend(['Rho for Call', 'Rho for Put'])"
   ]
  },
  {
   "cell_type": "code",
   "execution_count": null,
   "id": "37e62d22",
   "metadata": {},
   "outputs": [],
   "source": []
  }
 ],
 "metadata": {
  "kernelspec": {
   "display_name": "Python 3 (ipykernel)",
   "language": "python",
   "name": "python3"
  },
  "language_info": {
   "codemirror_mode": {
    "name": "ipython",
    "version": 3
   },
   "file_extension": ".py",
   "mimetype": "text/x-python",
   "name": "python",
   "nbconvert_exporter": "python",
   "pygments_lexer": "ipython3",
   "version": "3.9.12"
  }
 },
 "nbformat": 4,
 "nbformat_minor": 5
}
